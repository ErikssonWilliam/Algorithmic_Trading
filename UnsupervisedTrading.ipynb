{
 "cells": [
  {
   "cell_type": "code",
   "execution_count": 4,
   "metadata": {},
   "outputs": [],
   "source": [
    "from statsmodels.regression.rolling import RollingOLS\n",
    "import pandas_datareader.data as web\n",
    "import matplotlib.pyplot as plt\n",
    "import statsmodels.api as sm\n",
    "import pandas as pd\n",
    "import numpy as np\n",
    "import datetime as dt\n",
    "import yfinance as yf\n",
    "import pandas_ta as ta\n",
    "import warnings\n",
    "\n",
    "# Suppress warnings\n",
    "warnings.filterwarnings('ignore')\n",
    "\n",
    "#pip install statsmodels pandas-datareader matplotlib pandas numpy datetime yfinance pandas_ta"
   ]
  },
  {
   "cell_type": "code",
   "execution_count": 2,
   "metadata": {},
   "outputs": [
    {
     "name": "stderr",
     "output_type": "stream",
     "text": [
      "[*********************100%***********************]  503 of 503 completed\n"
     ]
    }
   ],
   "source": [
    "# Set up dataframe with S&P500 stocks\n",
    "SP500 = pd.read_html('https://en.wikipedia.org/wiki/List_of_S%26P_500_companies')[0]\n",
    "\n",
    "SP500['Symbol'] = SP500['Symbol'].str.replace('.', '-')\n",
    "symbols_list = SP500['Symbol'].unique().tolist()\n",
    "\n",
    "end_date = '2024-12-01'\n",
    "start_date = pd.to_datetime(end_date) - pd.DateOffset(365 * 8)  # Eight years of time\n",
    "\n",
    "df = yf.download(tickers=symbols_list, \n",
    "                 start=start_date,\n",
    "                 end=end_date).stack()\n",
    "# Stack makes sure each row is unique, pivots columns into a multi-level index\n",
    "\n",
    "df.index.names = ['date', 'ticker']\n",
    "df.columns = df.columns.str.lower()  # Convert all column names to lower case\n",
    "\n",
    "# Uncomment the line below if you want to see the dataframe\n",
    "# print(df)\n"
   ]
  },
  {
   "cell_type": "code",
   "execution_count": 7,
   "metadata": {},
   "outputs": [
    {
     "name": "stdout",
     "output_type": "stream",
     "text": [
      "Price               adj close       close        high         low        open  \\\n",
      "date       ticker                                                               \n",
      "2016-12-05 A        41.855881   44.529999   44.689999   44.209999   44.209999   \n",
      "           AAPL     25.262001   27.277500   27.507500   27.062500   27.500000   \n",
      "           ABBV     43.165928   60.860001   61.220001   59.570000   59.599998   \n",
      "           ABT      33.251614   38.430000   38.450001   37.990002   38.110001   \n",
      "           ACGL     26.609310   27.983334   27.986668   27.553333   27.683332   \n",
      "...                       ...         ...         ...         ...         ...   \n",
      "2024-11-29 XYL     126.750000  126.750000  127.830002  126.070000  126.389999   \n",
      "           YUM     138.270004  138.940002  139.350006  138.289993  139.039993   \n",
      "           ZBH     112.099998  112.099998  112.419998  111.410004  111.839996   \n",
      "           ZBRA    407.000000  407.000000  409.029999  405.510010  406.640015   \n",
      "           ZTS     175.250000  175.250000  177.809998  175.240005  176.929993   \n",
      "\n",
      "Price                   volume  garman_klass_vol        rsi  \n",
      "date       ticker                                            \n",
      "2016-12-05 A         2495000.0         -0.001098        NaN  \n",
      "           AAPL    137298000.0         -0.002650        NaN  \n",
      "           ABBV     10227700.0         -0.039830        NaN  \n",
      "           ABT       9514700.0         -0.007112        NaN  \n",
      "           ACGL      1685400.0         -0.000483        NaN  \n",
      "...                        ...               ...        ...  \n",
      "2024-11-29 XYL       1084000.0          0.000093  49.648306  \n",
      "           YUM       1003200.0          0.000017  58.867524  \n",
      "           ZBH        504100.0          0.000039  57.786847  \n",
      "           ZBRA       175700.0          0.000037  65.341500  \n",
      "           ZTS       1543400.0          0.000071  43.293954  \n",
      "\n",
      "[988874 rows x 8 columns]\n"
     ]
    }
   ],
   "source": [
    "# Garman-Klass volatility, estimates volatility using FOUR key metrics\n",
    "# High: Highest price of asset during period\n",
    "# Low: Lowest price of asset during period\n",
    "# Close: Closing price of asset\n",
    "# Open: Opening price of asset\n",
    "df['garman_klass_vol'] = ((np.log(df['high']) - np.log(df['low'])) ** 2) / 2 - ((2 * np.log(2) - 1) * (np.log(df['adj close']) - np.log(df['open'])) ** 2)\n",
    "print(df)\n",
    "\n",
    "#Relative Strength Index (RSI), used to measure speed and change of price movements of a stock from 0 to 100\n",
    "\n",
    "df['rsi'] = df.groupby(level=1)['adj close'].transform(lambda x: ta.rsi(close=x, length=20))\n"
   ]
  }
 ],
 "metadata": {
  "kernelspec": {
   "display_name": ".venv",
   "language": "python",
   "name": "python3"
  },
  "language_info": {
   "codemirror_mode": {
    "name": "ipython",
    "version": 3
   },
   "file_extension": ".py",
   "mimetype": "text/x-python",
   "name": "python",
   "nbconvert_exporter": "python",
   "pygments_lexer": "ipython3",
   "version": "3.11.9"
  }
 },
 "nbformat": 4,
 "nbformat_minor": 2
}
