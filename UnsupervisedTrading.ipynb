{
 "cells": [
  {
   "cell_type": "code",
   "execution_count": null,
   "metadata": {},
   "outputs": [
    {
     "data": {
      "text/plain": [
       "Traceback (most recent call last):\n",
       "  File \"c:\\Users\\William\\.vscode\\extensions\\ms-python.python-2024.22.0-win32-x64\\python_files\\python_server.py\", line 133, in exec_user_input\n",
       "    retval = callable_(user_input, user_globals)\n",
       "             ^^^^^^^^^^^^^^^^^^^^^^^^^^^^^^^^^^^\n",
       "  File \"<string>\", line 9, in <module>\n",
       "  File \"G:\\Min enhet\\Industriell Ekonomi\\Årskurs 4\\AlgTrading\\Algorithmic_Trading\\.venv\\Lib\\site-packages\\pandas_ta\\__init__.py\", line 116, in <module>\n",
       "    from pandas_ta.core import *\n",
       "  File \"G:\\Min enhet\\Industriell Ekonomi\\Årskurs 4\\AlgTrading\\Algorithmic_Trading\\.venv\\Lib\\site-packages\\pandas_ta\\core.py\", line 18, in <module>\n",
       "    from pandas_ta.momentum import *\n",
       "  File \"G:\\Min enhet\\Industriell Ekonomi\\Årskurs 4\\AlgTrading\\Algorithmic_Trading\\.venv\\Lib\\site-packages\\pandas_ta\\momentum\\__init__.py\", line 34, in <module>\n",
       "    from .squeeze_pro import squeeze_pro\n",
       "  File \"G:\\Min enhet\\Industriell Ekonomi\\Årskurs 4\\AlgTrading\\Algorithmic_Trading\\.venv\\Lib\\site-packages\\pandas_ta\\momentum\\squeeze_pro.py\", line 2, in <module>\n",
       "    from numpy import NaN as npNaN\n",
       "ImportError: cannot import name 'NaN' from 'numpy' (G:\\Min enhet\\Industriell Ekonomi\\Årskurs 4\\AlgTrading\\Algorithmic_Trading\\.venv\\Lib\\site-packages\\numpy\\__init__.py)\n",
       "\n"
      ]
     },
     "metadata": {},
     "output_type": "display_data"
    }
   ],
   "source": [
    "from statsmodels.regression.rolling import RollingOLS\n",
    "import pandas_datareader.data as web\n",
    "import matplotlib.pyplot as plt\n",
    "import statsmodels.api as sm\n",
    "import pandas as pd\n",
    "import numpy as np\n",
    "import datetime as dt\n",
    "import yfinance as yf\n",
    "#import pandas_ta as ta\n",
    "import warnings\n",
    "\n",
    "# Suppress warnings\n",
    "warnings.filterwarnings('ignore')\n",
    "\n",
    "#pip install statsmodels pandas-datareader matplotlib pandas numpy datetime yfinance pandas_ta"
   ]
  },
  {
   "cell_type": "code",
   "execution_count": null,
   "metadata": {},
   "outputs": [],
   "source": [
    "# Set up dataframe with S&P500 stocks\n",
    "SP500 = pd.read_html('https://en.wikipedia.org/wiki/List_of_S%26P_500_companies')[0]\n",
    "\n",
    "SP500['Symbol'] = SP500['Symbol'].str.replace('.', '-')\n",
    "symbols_list = SP500['Symbol'].unique().tolist()\n",
    "\n",
    "end_date = '2024-12-01'\n",
    "start_date = pd.to_datetime(end_date) - pd.DateOffset(365 * 8)  # Eight years of time\n",
    "\n",
    "df = yf.download(tickers=symbols_list, \n",
    "                 start=start_date,\n",
    "                 end=end_date).stack()\n",
    "# Stack makes sure each row is unique, pivots columns into a multi-level index\n",
    "\n",
    "df.index.names = ['date', 'ticker']\n",
    "df.columns = df.columns.str.lower()  # Convert all column names to lower case\n",
    "\n",
    "# Uncomment the line below if you want to see the dataframe\n",
    "# print(df)\n"
   ]
  },
  {
   "cell_type": "code",
   "execution_count": null,
   "metadata": {},
   "outputs": [
    {
     "data": {
      "text/plain": [
       "Price               adj close       close  ...       volume  garman_klass_vol\n",
       "date       ticker                          ...                               \n",
       "2016-12-05 A        41.855900   44.529999  ...    2495000.0         -0.001098\n",
       "           AAPL     25.262007   27.277500  ...  137298000.0         -0.002650\n",
       "           ABBV     43.165909   60.860001  ...   10227700.0         -0.039830\n",
       "           ABT      33.251614   38.430000  ...    9514700.0         -0.007112\n",
       "           ACGL     26.609310   27.983334  ...    1685400.0         -0.000483\n",
       "...                       ...         ...  ...          ...               ...\n",
       "2024-11-29 XYL     126.750000  126.750000  ...    1084000.0          0.000093\n",
       "           YUM     138.270004  138.940002  ...    1003200.0          0.000017\n",
       "           ZBH     112.099998  112.099998  ...     504100.0          0.000039\n",
       "           ZBRA    407.000000  407.000000  ...     175700.0          0.000037\n",
       "           ZTS     175.250000  175.250000  ...    1543400.0          0.000071\n",
       "\n",
       "[988874 rows x 7 columns]\n"
      ]
     },
     "metadata": {},
     "output_type": "display_data"
    }
   ],
   "source": [
    "# Garman-Klass volatility, estimates volatility using FOUR key metrics\n",
    "# High: Highest price of asset during period\n",
    "# Low: Lowest price of asset during period\n",
    "# Close: Closing price of asset\n",
    "# Open: Opening price of asset\n",
    "df['garman_klass_vol'] = ((np.log(df['high']) - np.log(df['low'])) ** 2) / 2 - ((2 * np.log(2) - 1) * (np.log(df['adj close']) - np.log(df['open'])) ** 2)\n",
    "print(df)\n",
    "\n",
    "#Relative Strength Index (RSI), used to measure speed and change of price movements of a stock from 0 to 100\n",
    "\n",
    "#df['rsi'] = df.groupby(level=1)['adj close'].transform(lambda x: ta.rsi(close=x, length=20))"
   ]
  }
 ],
 "metadata": {
  "language_info": {
   "name": "python"
  }
 },
 "nbformat": 4,
 "nbformat_minor": 2
}
